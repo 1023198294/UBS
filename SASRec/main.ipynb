{
 "cells": [
  {
   "cell_type": "code",
   "execution_count": 2,
   "metadata": {},
   "outputs": [],
   "source": [
    "import os\n",
    "import time\n",
    "import argparse\n",
    "import tensorflow as tf\n",
    "from sampler import WarpSampler\n",
    "from model import Model\n",
    "from tqdm import tqdm\n",
    "from util import *\n",
    "\n",
    "\n",
    "def str2bool(s):\n",
    "    if s not in {'False', 'True'}:\n",
    "        raise ValueError('Not a valid boolean string')\n",
    "    return s == 'True'"
   ]
  },
  {
   "cell_type": "code",
   "execution_count": 3,
   "metadata": {},
   "outputs": [],
   "source": [
    "parser = argparse.ArgumentParser()\n"
   ]
  },
  {
   "cell_type": "code",
   "execution_count": 4,
   "metadata": {},
   "outputs": [
    {
     "output_type": "execute_result",
     "data": {
      "text/plain": "_StoreAction(option_strings=['--l2_emb'], dest='l2_emb', nargs=None, const=None, default=0.0, type=<class 'float'>, choices=None, help=None, metavar=None)"
     },
     "metadata": {},
     "execution_count": 4
    }
   ],
   "source": []
  },
  {
   "cell_type": "code",
   "execution_count": 5,
   "metadata": {},
   "outputs": [
    {
     "output_type": "stream",
     "name": "stderr",
     "text": "usage: ipykernel_launcher.py [-h] [--dataset DATASET] [--train_dir TRAIN_DIR]\n                             [--batch_size BATCH_SIZE] [--lr LR]\n                             [--maxlen MAXLEN] [--hidden_units HIDDEN_UNITS]\n                             [--num_blocks NUM_BLOCKS]\n                             [--num_epochs NUM_EPOCHS] [--num_heads NUM_HEADS]\n                             [--dropout_rate DROPOUT_RATE] [--l2_emb L2_EMB]\nipykernel_launcher.py: error: unrecognized arguments: -f C:\\Users\\HP\\AppData\\Roaming\\jupyter\\runtime\\kernel-38f64466-d407-4dac-9314-cdc0677859f3.json\n"
    },
    {
     "output_type": "error",
     "ename": "SystemExit",
     "evalue": "2",
     "traceback": [
      "An exception has occurred, use %tb to see the full traceback.\n",
      "\u001b[1;31mSystemExit\u001b[0m\u001b[1;31m:\u001b[0m 2\n"
     ]
    }
   ],
   "source": [
    "\n"
   ]
  },
  {
   "cell_type": "code",
   "execution_count": null,
   "metadata": {},
   "outputs": [],
   "source": []
  }
 ],
 "metadata": {
  "language_info": {
   "codemirror_mode": {
    "name": "ipython",
    "version": 3
   },
   "file_extension": ".py",
   "mimetype": "text/x-python",
   "name": "python",
   "nbconvert_exporter": "python",
   "pygments_lexer": "ipython3",
   "version": "3.6.4-final"
  },
  "orig_nbformat": 2,
  "kernelspec": {
   "name": "python3",
   "display_name": "Python 3"
  }
 },
 "nbformat": 4,
 "nbformat_minor": 2
}